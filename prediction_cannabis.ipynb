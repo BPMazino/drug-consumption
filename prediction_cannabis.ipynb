{
 "cells": [
  {
   "attachments": {},
   "cell_type": "markdown",
   "metadata": {},
   "source": [
    "### groupe\n",
    "Arifette Nassim  \n",
    "Derathe Pierre   \n",
    "De Amorim Matthias  \n",
    "Mesbah Slimane"
   ]
  },
  {
   "cell_type": "code",
   "execution_count": null,
   "metadata": {
    "id": "DeGzWmdkBwKs"
   },
   "outputs": [],
   "source": [
    "import pandas as pd\n",
    "import numpy as np\n",
    "import matplotlib.pyplot as plt\n",
    "\n",
    "from sklearn.model_selection import train_test_split, cross_val_score, cross_validate\n",
    "from sklearn.decomposition import PCA\n",
    "from sklearn.pipeline import make_pipeline\n",
    "from sklearn.preprocessing import OneHotEncoder, PolynomialFeatures\n",
    "from sklearn.linear_model import LogisticRegression\n",
    "from sklearn.tree import DecisionTreeClassifier\n",
    "from sklearn import tree\n",
    "from sklearn.metrics import accuracy_score, balanced_accuracy_score, roc_auc_score, confusion_matrix, classification_report\n"
   ]
  },
  {
   "cell_type": "code",
   "execution_count": null,
   "metadata": {
    "colab": {
     "base_uri": "https://localhost:8080/",
     "height": 488
    },
    "id": "5xLc06F5CV-c",
    "outputId": "24d675e8-33d7-4bd2-d835-4a7c7d1a98d6",
    "scrolled": false
   },
   "outputs": [],
   "source": [
    "header = [\"id\", \"age\", \"gender\", \"education\", \"country\", \"ethnicity\", \"neuroticism\", \"extraversion\", \\\n",
    "          \"openness\", \"agreeableness\", \"conscientiousness\", \"impulsiveness\", \"sensation_seeking\", \\\n",
    "          \"alcohol\", \"amphet\", \"amyl\", \"benzos\", \"caff\", \"cannabis\", \"choc\", \"coke\", \"crack\", \"ecstasy\", \\\n",
    "          \"heroin\", \"ketamine\", \"legallh\", \"lsd\", \"meth\", \"mushroom\", \"nicotine\", \"semer\", \"vsa\"]\n",
    "\n",
    "df = pd.read_csv(\"https://archive.ics.uci.edu/ml/machine-learning-databases/00373/drug_consumption.data\", names=header)\n",
    "df"
   ]
  },
  {
   "cell_type": "code",
   "execution_count": null,
   "metadata": {},
   "outputs": [],
   "source": [
    "semer_consummer_index = df.loc[df[\"semer\"] != \"CL0\"].index\n",
    "\n",
    "print(\"Nombre de personnes ayant indiqué avoir consommé la drogue fictive : \", semer_consummer_index.size)\n",
    "\n",
    "df.drop(index = semer_consummer_index, inplace = True)"
   ]
  },
  {
   "cell_type": "code",
   "execution_count": null,
   "metadata": {
    "colab": {
     "base_uri": "https://localhost:8080/",
     "height": 488
    },
    "id": "sneJrqNtCiQ8",
    "outputId": "a1fde5ca-f057-4ec7-df69-40e9977c6ba1"
   },
   "outputs": [],
   "source": [
    "df_cannabis = df.loc[:,[\"age\", \"gender\", \"education\", \"country\", \"neuroticism\", \"extraversion\", \\\n",
    "          \"openness\", \"agreeableness\", \"conscientiousness\", \"impulsiveness\", \"sensation_seeking\", \\\n",
    "          \"cannabis\"]]\n",
    "# On ne garde pas ethnicity\n",
    "df_cannabis"
   ]
  },
  {
   "attachments": {},
   "cell_type": "markdown",
   "metadata": {},
   "source": [
    "#### On change le type de la colonne cannabis  \n",
    "-1 signifie que la personne n'est pas consommatrice, 1 signifie qu'elle l'est.\n",
    "Les valeurs CLx indique quand a été la dernière prise de cette drogue par la personne.\n",
    "Nous avons choisi de fixer le seuil à partir duquel on considère que la personne n'est plus consommatrice à 1 an.\n",
    "Si elle n'a pas consommé depuis 1 an alors cette personne n'est pas consommatrice."
   ]
  },
  {
   "cell_type": "code",
   "execution_count": null,
   "metadata": {
    "colab": {
     "base_uri": "https://localhost:8080/",
     "height": 488
    },
    "id": "upUegPuaCvSN",
    "outputId": "3c2c6bdb-d9b7-449f-955c-b2c015d91bf7"
   },
   "outputs": [],
   "source": [
    "def CL_to_binary_class(cl):\n",
    "    if(cl==\"CL0\" or cl==\"CL1\" or cl==\"CL2\"):\n",
    "        return -1\n",
    "    else:\n",
    "        return 1\n",
    "\n",
    "df_cannabis[\"cannabis\"] = df_cannabis[\"cannabis\"].apply(CL_to_binary_class)\n",
    "df_cannabis"
   ]
  },
  {
   "attachments": {},
   "cell_type": "markdown",
   "metadata": {},
   "source": [
    "#### On renomme les valeurs des colonnes *age*, *gender*, *education* et *country* pour rendre plus lisible les noms des colonnes après avoir appliqué le one-hot"
   ]
  },
  {
   "cell_type": "code",
   "execution_count": null,
   "metadata": {},
   "outputs": [],
   "source": [
    "age = {-0.95197:\"18-24\", -0.07854:\"25-34\", 0.49788:\"35-44\", 1.09449:\"45-54\", 1.82213:\"55-64\", 2.59171:\"65+\"}\n",
    "gender = {-0.48246:\"male\", 0.48246:\"female\"}\n",
    "education = {-2.43591:\"left school before 16\", -1.7379:\"left school at 16\", -1.43719:\"left school at 17\", -1.22751:\"left school at 18\", -0.61113:\"left college without degree\", -0.05921:\"professionnal certificate\", 0.45468:\"university degree\", 1.16365:\"master degree\", 1.98437:\"doctorate degree\"}\n",
    "country = {-0.57009:\"USA\", -0.46841:\"New Zealand\", -0.28519:\"Other\", -0.09765:\"Australia\", 0.21128:\"Republic of Ireland\", 0.24923:\"Canada\", 0.96082:\"UK\"}\n",
    "\n",
    "def rename_age(x):\n",
    "    return age[x]\n",
    "\n",
    "def rename_gender(x):\n",
    "    return gender[x]\n",
    "\n",
    "def rename_education(x):\n",
    "    return education[x]\n",
    "\n",
    "def rename_country(x):\n",
    "    return country[x]\n",
    "\n",
    "df_cannabis[\"age\"] = df_cannabis.loc[:, \"age\"].apply(rename_age)\n",
    "df_cannabis[\"gender\"] = df_cannabis.loc[:, \"gender\"].apply(rename_gender)\n",
    "df_cannabis[\"education\"] = df_cannabis.loc[:, \"education\"].apply(rename_education)\n",
    "df_cannabis[\"country\"] = df_cannabis.loc[:, \"country\"].apply(rename_country)\n",
    "\n",
    "del age\n",
    "del gender\n",
    "del education\n",
    "del country\n",
    "\n",
    "df_cannabis"
   ]
  },
  {
   "cell_type": "code",
   "execution_count": null,
   "metadata": {},
   "outputs": [],
   "source": [
    "# Cette cellule sert à voir la quantité de personnes dans chaque feature catégorique \n",
    " \n",
    "print(df_cannabis[\"country\"].value_counts())\n",
    "print(df_cannabis[\"education\"].value_counts())\n",
    "print(df_cannabis[\"age\"].value_counts())\n",
    "print(df_cannabis['gender'].value_counts())"
   ]
  },
  {
   "attachments": {},
   "cell_type": "markdown",
   "metadata": {},
   "source": [
    "Pas mal de valeur qui sont très minoritaires, le modèle aura du mal à apprendre sur ça.\n",
    "On merge les valeurs minoritaires :"
   ]
  },
  {
   "cell_type": "code",
   "execution_count": null,
   "metadata": {},
   "outputs": [],
   "source": [
    "# merge Other with Canada Australia and New Zealand, and Republic of Ireland\n",
    "df_cannabis[\"country\"] = df_cannabis[\"country\"].replace([\"Other\", \"Canada\", \"Australia\", \"New Zealand\", \"Republic of Ireland\"], \"Other\")\n",
    "print(df_cannabis[\"country\"].value_counts())\n",
    "\n",
    "df_cannabis[\"education\"] = df_cannabis[\"education\"].replace([\"left school at 18\", \"left school at 16\", \"left school at 17\", \"left school before 16\"], \"left school before 18 (included)\")\n",
    "print(df_cannabis[\"education\"].value_counts())\n",
    "\n",
    "df_cannabis[\"age\"] = df_cannabis[\"age\"].replace([\"45-54\", \"55-64\", \"65+\"], \"45+\")\n",
    "print(df_cannabis[\"age\"].value_counts())\n"
   ]
  },
  {
   "attachments": {},
   "cell_type": "markdown",
   "metadata": {},
   "source": [
    "#### On fait le one-hot sur les colonnes *age*, *gender*, *education* et *country* et on combine les nouvelles colonnes avec les autres features"
   ]
  },
  {
   "cell_type": "code",
   "execution_count": null,
   "metadata": {
    "id": "YcD-UcQrLTBf"
   },
   "outputs": [],
   "source": [
    "# perform one-hot encoding on categorical features\n",
    "categorical_features = ['age','gender', 'education', 'country']\n",
    "enc = OneHotEncoder(handle_unknown='ignore')\n",
    "enc.fit(df_cannabis[categorical_features])\n",
    "df_cannabis_encoded = pd.DataFrame(enc.transform(df_cannabis[categorical_features]).toarray(), columns=enc.get_feature_names_out())\n",
    "# on modifie les index car on avait supprimé certaine lignes donc ce ne sont pas exactement les memes sinon\n",
    "df_cannabis_encoded.index = df_cannabis.index\n",
    "# combine the one-hot encoded features with the numerical features\n",
    "X = pd.concat([df_cannabis.drop(categorical_features, axis=1), df_cannabis_encoded ], axis=1).drop(\"cannabis\", axis=1)\n",
    "y = df_cannabis['cannabis']"
   ]
  },
  {
   "cell_type": "code",
   "execution_count": null,
   "metadata": {},
   "outputs": [],
   "source": [
    "X.columns"
   ]
  },
  {
   "cell_type": "markdown",
   "metadata": {},
   "source": [
    "#### PCA 2 dimensions pour visualiser la répartition des données"
   ]
  },
  {
   "cell_type": "code",
   "execution_count": null,
   "metadata": {},
   "outputs": [],
   "source": [
    "pca = PCA(n_components=2)\n",
    "X_2d = pca.fit_transform(X)\n",
    "print(pca.explained_variance_ratio_)"
   ]
  },
  {
   "cell_type": "code",
   "execution_count": null,
   "metadata": {},
   "outputs": [],
   "source": [
    "plt.scatter(X_2d[:, 0], X_2d[:, 1], marker='o', c=y, edgecolors='k')\n",
    "plt.xlabel('first dir')\n",
    "plt.ylabel('second dir')\n",
    "plt.show()"
   ]
  },
  {
   "attachments": {},
   "cell_type": "markdown",
   "metadata": {},
   "source": [
    "#### Séparation des données en train, valid et test"
   ]
  },
  {
   "cell_type": "code",
   "execution_count": null,
   "metadata": {},
   "outputs": [],
   "source": [
    "X_train_valid, X_test, y_train_valid, y_test = train_test_split(X, y, test_size=0.2, random_state=42)"
   ]
  },
  {
   "cell_type": "code",
   "execution_count": null,
   "metadata": {},
   "outputs": [],
   "source": [
    "X_train, X_valid, y_train, y_valid = train_test_split(X_train_valid, y_train_valid, test_size=0.2, random_state=42)"
   ]
  },
  {
   "attachments": {},
   "cell_type": "markdown",
   "metadata": {},
   "source": [
    "### Petit test avec arbre de décision"
   ]
  },
  {
   "cell_type": "code",
   "execution_count": null,
   "metadata": {},
   "outputs": [],
   "source": [
    "clf = DecisionTreeClassifier(max_leaf_nodes=7, random_state=0)\n",
    "clf.fit(X_train, y_train)\n",
    "fig, ax = plt.subplots(figsize=(30, 20))\n",
    "tree.plot_tree(clf, fontsize=20, ax = ax, feature_names=X.columns)\n",
    "y_pred = clf.predict(X_valid)\n",
    "print(balanced_accuracy_score(y_valid, y_pred))"
   ]
  },
  {
   "cell_type": "code",
   "execution_count": null,
   "metadata": {},
   "outputs": [],
   "source": [
    "score_train = cross_val_score(clf, X_train_valid, y_train_valid, cv=5)\n",
    "print(score_train.mean(), score_train.std())"
   ]
  },
  {
   "attachments": {},
   "cell_type": "markdown",
   "metadata": {},
   "source": [
    "# Test de plusieurs hyper-paramètres des arbres de décisions"
   ]
  },
  {
   "attachments": {},
   "cell_type": "markdown",
   "metadata": {},
   "source": [
    "### Nombre de feuilles"
   ]
  },
  {
   "cell_type": "code",
   "execution_count": null,
   "metadata": {},
   "outputs": [],
   "source": [
    "# Teste de l'hyperparamètre : nombre de feuille\n",
    "\n",
    "nom_param = \"nombre de feuilles\"\n",
    "limite_param = 50\n",
    "scoring = [\"balanced_accuracy\", \"roc_auc\"]\n",
    "\n",
    "means = [np.zeros(limite_param) for i in range(len(scoring) *2)]\n",
    "stds = [np.zeros(limite_param) for i in range(len(scoring) *2)]\n",
    "\n",
    "for n in range(limite_param):\n",
    "    clf = DecisionTreeClassifier(max_leaf_nodes=n+3, random_state=0)\n",
    "    clf.fit(X_train, y_train)\n",
    "    result = cross_validate(clf, X_train_valid, y_train_valid, cv=5, n_jobs=-1, scoring = scoring, return_train_score=True)\n",
    "    for i in range(len(scoring)):\n",
    "        means[i*2][n] = result[\"test_\" + scoring[i]].mean()\n",
    "        means[i*2 +1][n] = result[\"train_\" + scoring[i]].mean()\n",
    "        stds[i*2][n] = result[\"test_\" + scoring[i]].std()\n",
    "        stds[i*2 +1][n] = result[\"train_\" + scoring[i]].std()\n",
    "\n",
    "fig, axs = plt.subplots(len(scoring), 1, figsize=(20, 14))\n",
    "\n",
    "for i in range(len(scoring)):\n",
    "    axs[i].errorbar(np.array(range(limite_param)) + 3, means[i*2], stds[i*2], label=\"test\")\n",
    "    axs[i].errorbar(np.array(range(limite_param)) + 3, means[i*2 +1], stds[i*2 +1], label=\"train\")\n",
    "    axs[i].set_xlabel(nom_param)\n",
    "    axs[i].set_ylabel(scoring[i])\n",
    "    axs[i].legend()\n",
    "    axs[i].grid()\n",
    "    axs[i].set_xticks(range(0, limite_param+5))"
   ]
  },
  {
   "attachments": {},
   "cell_type": "markdown",
   "metadata": {},
   "source": [
    "### Profondeur maximale"
   ]
  },
  {
   "cell_type": "code",
   "execution_count": null,
   "metadata": {},
   "outputs": [],
   "source": [
    "# Teste de l'hyperparamètre : profondeur max\n",
    "nom_param = \"profondeur max\"\n",
    "limite_param = 10\n",
    "scoring = [\"balanced_accuracy\", \"roc_auc\"]\n",
    "\n",
    "means = [np.zeros(limite_param) for i in range(len(scoring) *2)]\n",
    "stds = [np.zeros(limite_param) for i in range(len(scoring) *2)]\n",
    "\n",
    "for n in range(limite_param):\n",
    "    clf = DecisionTreeClassifier(max_depth=n+1, random_state=0)\n",
    "    clf.fit(X_train, y_train)\n",
    "    result = cross_validate(clf, X_train_valid, y_train_valid, cv=5, n_jobs=-1, scoring = scoring, return_train_score=True)\n",
    "    for i in range(len(scoring)):\n",
    "        means[i*2][n] = result[\"test_\" + scoring[i]].mean()\n",
    "        means[i*2 +1][n] = result[\"train_\" + scoring[i]].mean()\n",
    "        stds[i*2][n] = result[\"test_\" + scoring[i]].std()\n",
    "        stds[i*2 +1][n] = result[\"train_\" + scoring[i]].std()\n",
    "\n",
    "fig, axs = plt.subplots(len(scoring), 1, figsize=(20, 14))\n",
    "\n",
    "for i in range(len(scoring)):\n",
    "    axs[i].errorbar(np.array(range(limite_param)) + 3, means[i*2], stds[i*2], label=\"test\")\n",
    "    axs[i].errorbar(np.array(range(limite_param)) + 3, means[i*2 +1], stds[i*2 +1], label=\"train\")\n",
    "    axs[i].set_xlabel(nom_param)\n",
    "    axs[i].set_ylabel(scoring[i])\n",
    "    axs[i].legend()\n",
    "    axs[i].grid()\n",
    "    axs[i].set_xticks(range(0, limite_param+5))"
   ]
  },
  {
   "attachments": {},
   "cell_type": "markdown",
   "metadata": {},
   "source": [
    "### Nombre de sample minimum nécessaire pour effectuer un nouveau branchement"
   ]
  },
  {
   "cell_type": "code",
   "execution_count": null,
   "metadata": {},
   "outputs": [],
   "source": [
    "# Teste de l'hyperparamètre : nombre de sample min pour split\n",
    "nom_param = \"nombre de sample minimum pour split\"\n",
    "limite_param = 250\n",
    "scoring = [\"balanced_accuracy\", \"roc_auc\"]\n",
    "\n",
    "means = [np.zeros(limite_param) for i in range(len(scoring) *2)]\n",
    "stds = [np.zeros(limite_param) for i in range(len(scoring) *2)]\n",
    "\n",
    "for n in range(limite_param):\n",
    "    clf = DecisionTreeClassifier(min_samples_split=n+2, random_state=0)\n",
    "    clf.fit(X_train, y_train)\n",
    "    result = cross_validate(clf, X_train_valid, y_train_valid, cv=5, n_jobs=-1, scoring = scoring, return_train_score=True)\n",
    "    for i in range(len(scoring)):\n",
    "        means[i*2][n] = result[\"test_\" + scoring[i]].mean()\n",
    "        means[i*2 +1][n] = result[\"train_\" + scoring[i]].mean()\n",
    "        stds[i*2][n] = result[\"test_\" + scoring[i]].std()\n",
    "        stds[i*2 +1][n] = result[\"train_\" + scoring[i]].std()\n",
    "\n",
    "fig, axs = plt.subplots(len(scoring), 1, figsize=(20, 14))\n",
    "\n",
    "for i in range(len(scoring)):\n",
    "    axs[i].errorbar(np.array(range(limite_param)) + 3, means[i*2], stds[i*2], label=\"test\")\n",
    "    axs[i].errorbar(np.array(range(limite_param)) + 3, means[i*2 +1], stds[i*2 +1], label=\"train\")\n",
    "    axs[i].set_xlabel(nom_param)\n",
    "    axs[i].set_ylabel(scoring[i])\n",
    "    axs[i].legend()\n",
    "    axs[i].grid()\n",
    "    axs[i].set_xticks(range(0, limite_param+5, 5))"
   ]
  },
  {
   "attachments": {},
   "cell_type": "markdown",
   "metadata": {},
   "source": [
    "### Nombre de sample minimum par feuille"
   ]
  },
  {
   "cell_type": "code",
   "execution_count": null,
   "metadata": {},
   "outputs": [],
   "source": [
    "# Teste de l'hyperparamètre : nombre de sample min par feuille\n",
    "nom_param = \"nombre de sample minimum par feuille\"\n",
    "limite_param = 140\n",
    "scoring = [\"balanced_accuracy\", \"roc_auc\"]\n",
    "\n",
    "means = [np.zeros(limite_param) for i in range(len(scoring) *2)]\n",
    "stds = [np.zeros(limite_param) for i in range(len(scoring) *2)]\n",
    "\n",
    "for n in range(limite_param):\n",
    "    clf = DecisionTreeClassifier(min_samples_leaf=n+1, random_state=0)\n",
    "    clf.fit(X_train, y_train)\n",
    "    result = cross_validate(clf, X_train_valid, y_train_valid, cv=5, n_jobs=-1, scoring = scoring, return_train_score=True)\n",
    "    for i in range(len(scoring)):\n",
    "        means[i*2][n] = result[\"test_\" + scoring[i]].mean()\n",
    "        means[i*2 +1][n] = result[\"train_\" + scoring[i]].mean()\n",
    "        stds[i*2][n] = result[\"test_\" + scoring[i]].std()\n",
    "        stds[i*2 +1][n] = result[\"train_\" + scoring[i]].std()\n",
    "\n",
    "fig, axs = plt.subplots(len(scoring), 1, figsize=(20, 14))\n",
    "\n",
    "for i in range(len(scoring)):\n",
    "    axs[i].errorbar(np.array(range(limite_param)) + 3, means[i*2], stds[i*2], label=\"test\")\n",
    "    axs[i].errorbar(np.array(range(limite_param)) + 3, means[i*2 +1], stds[i*2 +1], label=\"train\")\n",
    "    axs[i].set_xlabel(nom_param)\n",
    "    axs[i].set_ylabel(scoring[i])\n",
    "    axs[i].legend()\n",
    "    axs[i].grid()\n",
    "    axs[i].set_xticks(range(0, limite_param+5, 5))"
   ]
  },
  {
   "attachments": {},
   "cell_type": "markdown",
   "metadata": {},
   "source": [
    "## Prediction sur X_test"
   ]
  },
  {
   "cell_type": "code",
   "execution_count": null,
   "metadata": {},
   "outputs": [],
   "source": [
    "clf = DecisionTreeClassifier(min_samples_leaf=47, random_state=0)\n",
    "clf.fit(X_train, y_train)\n",
    "# fig, ax = plt.subplots(figsize=(30, 20))\n",
    "# tree.plot_tree(clf, fontsize=20, ax = ax, feature_names=X.columns)\n",
    "y_pred = clf.predict(X_test)\n",
    "print(balanced_accuracy_score(y_test, y_pred))"
   ]
  },
  {
   "cell_type": "code",
   "execution_count": null,
   "metadata": {},
   "outputs": [],
   "source": []
  }
 ],
 "metadata": {
  "colab": {
   "provenance": []
  },
  "kernelspec": {
   "display_name": "base",
   "language": "python",
   "name": "python3"
  },
  "language_info": {
   "codemirror_mode": {
    "name": "ipython",
    "version": 3
   },
   "file_extension": ".py",
   "mimetype": "text/x-python",
   "name": "python",
   "nbconvert_exporter": "python",
   "pygments_lexer": "ipython3",
   "version": "3.10.12"
  },
  "vscode": {
   "interpreter": {
    "hash": "6124cb75ed5e95fb4c2d51be3e7c42779c6084aa7dda0feec3706fdbd11e5f0a"
   }
  }
 },
 "nbformat": 4,
 "nbformat_minor": 1
}
